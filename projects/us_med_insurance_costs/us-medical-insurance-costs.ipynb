{
 "cells": [
  {
   "cell_type": "markdown",
   "metadata": {},
   "source": [
    "# U.S. Medical Insurance Costs"
   ]
  },
  {
   "cell_type": "code",
   "execution_count": 99,
   "metadata": {},
   "outputs": [],
   "source": [
    "import csv"
   ]
  },
  {
   "cell_type": "code",
   "execution_count": 188,
   "metadata": {},
   "outputs": [],
   "source": [
    "# load data and return respective columns in list type \n",
    "dict = {}\n",
    "with open('insurance.csv') as f:\n",
    "    reader = csv.DictReader(f)\n",
    "    id = 0\n",
    "    for row in reader:\n",
    "        dict[id] = {'age': float(row['age']),\n",
    "                    'sex': row['sex'],\n",
    "                    'bmi': float(row['bmi']),\n",
    "                    'smoker': row['smoker'],\n",
    "                    'region': row['region'],\n",
    "                    'children': int(row['children']),\n",
    "                    'charges': float(row['charges'])\n",
    "                    }\n",
    "        id += 1"
   ]
  },
  {
   "cell_type": "code",
   "execution_count": 190,
   "metadata": {},
   "outputs": [],
   "source": [
    "# average, min, and max BMI\n",
    "def min_max_bmi():\n",
    "    total = 0\n",
    "    min_bmi = dict[0]['bmi']\n",
    "    max_bmi = dict[0]['bmi']\n",
    "\n",
    "    for k in dict:\n",
    "        total += dict[k]['bmi']\n",
    "        if dict[k]['bmi'] < min_bmi:\n",
    "            min_bmi = dict[k]['bmi']\n",
    "            min_details = {'age': dict[k]['age'],\n",
    "                'sex': dict[k]['sex'],\n",
    "                'smoker': dict[k]['smoker'],\n",
    "                'region': dict[k]['region'],\n",
    "                'children': dict[k]['children'],\n",
    "                'charges': dict[k]['charges']\n",
    "            }        \n",
    "        elif dict[k]['bmi'] > min_bmi:\n",
    "            max_bmi = dict[k]['bmi']\n",
    "            max_details = {'age': dict[k]['age'],\n",
    "                'sex': dict[k]['sex'],\n",
    "                'smoker': dict[k]['smoker'],\n",
    "                'region': dict[k]['region'],\n",
    "                'children': dict[k]['children'],\n",
    "                'charges': dict[k]['charges']\n",
    "            }        \n",
    "\n",
    "    print(\"Details of person with min. BMI are:\")\n",
    "    print(f\"BMI: {min_bmi}\\nAge: {min_details['age']}\\nSex: {min_details['sex']}\\nChildren: {min_details['children']}\\nSmoker: {min_details['smoker']}\\nRegion: {min_details['region']}\\nCharges: {min_details['charges']}\")\n",
    "    print(\"\\nDetails of person with max. BMI are:\")\n",
    "    print(f\"BMI: {max_bmi}\\nAge: {max_details['age']}\\nSex: {max_details['sex']}\\nChildren: {max_details['children']}\\nSmoker: {max_details['smoker']}\\nRegion: {max_details['region']}\\nCharges: {max_details['charges']}\")\n",
    "    print(f\"\\nAverage insurance charges are: {total/len(bmi)}\")"
   ]
  },
  {
   "cell_type": "code",
   "execution_count": 191,
   "metadata": {},
   "outputs": [
    {
     "name": "stdout",
     "output_type": "stream",
     "text": [
      "Details of person with min. BMI are:\n",
      "BMI: 15.96\n",
      "Age: 18.0\n",
      "Sex: male\n",
      "Children: 0\n",
      "Smoker: no\n",
      "Region: northeast\n",
      "Charges: 1694.7964\n",
      "\n",
      "Details of person with max. BMI are:\n",
      "BMI: 29.07\n",
      "Age: 61.0\n",
      "Sex: female\n",
      "Children: 0\n",
      "Smoker: yes\n",
      "Region: northwest\n",
      "Charges: 29141.3603\n",
      "\n",
      "Average insurance charges are: 30.663396860986538\n"
     ]
    }
   ],
   "source": [
    "min_max_bmi()"
   ]
  },
  {
   "cell_type": "code",
   "execution_count": 192,
   "metadata": {},
   "outputs": [],
   "source": [
    "# no. of smokers and non-smokers and their avg. insurance charges\n",
    "def smoker_insurance_stats():\n",
    "    smoker, smoker_insurance_total = 0, 0\n",
    "    non_smoker, non_smoker_insurance_total = 0, 0\n",
    "\n",
    "    for k in dict:\n",
    "        if dict[k]['smoker'] == 'yes':\n",
    "            smoker += 1\n",
    "            smoker_insurance_total += dict[k]['charges']\n",
    "        else:\n",
    "            non_smoker += 1\n",
    "            non_smoker_insurance_total += dict[k]['charges']\n",
    "\n",
    "    print(f\"{'No. of smokers':20}: {smoker:6} | Avg. insurance charges: {smoker_insurance_total/smoker}\")\n",
    "    print(f\"{'No. of non_smokers':20}: {non_smoker:6} | Avg. insurance charges: {non_smoker_insurance_total/non_smoker}\")"
   ]
  },
  {
   "cell_type": "code",
   "execution_count": 193,
   "metadata": {},
   "outputs": [
    {
     "name": "stdout",
     "output_type": "stream",
     "text": [
      "No. of smokers      :    274 | Avg. insurance charges: 32050.23183153285\n",
      "No. of non_smokers  :   1064 | Avg. insurance charges: 8434.268297856199\n"
     ]
    }
   ],
   "source": [
    "smoker_insurance_stats()"
   ]
  },
  {
   "cell_type": "code",
   "execution_count": 208,
   "metadata": {},
   "outputs": [],
   "source": [
    "def region_wise_avg_insurance_charges():\n",
    "    ne, nw, se, sw = 0, 0, 0, 0\n",
    "    ne_count, nw_count, se_count, sw_count = 0, 0, 0, 0\n",
    "    \n",
    "    for k in dict:\n",
    "        if dict[k]['region'] == 'southeast':\n",
    "            se += dict[k]['charges']\n",
    "            se_count += 1\n",
    "        elif dict[k]['region'] == 'southwest':\n",
    "            sw += dict[k]['charges']\n",
    "            sw_count += 1\n",
    "        elif dict[k]['region'] == 'northeast':\n",
    "            ne += dict[k]['charges']\n",
    "            ne_count += 1            \n",
    "        elif dict[k]['region'] == 'northwest':\n",
    "            nw += dict[k]['charges']\n",
    "            nw_count += 1            \n",
    "            \n",
    "    print(f\"{'Region':10} Avg. Insurance Charges\")\n",
    "    print()\n",
    "    print(f\"{'Southeast':10} {se/se_count}\")\n",
    "    print(f\"{'Southwest':10} {sw/sw_count}\")\n",
    "    print(f\"{'Northeast':10} {ne/ne_count}\")\n",
    "    print(f\"{'Northwest':10} {nw/nw_count}\")"
   ]
  },
  {
   "cell_type": "code",
   "execution_count": 209,
   "metadata": {},
   "outputs": [
    {
     "name": "stdout",
     "output_type": "stream",
     "text": [
      "Region     Avg. Insurance Charges\n",
      "\n",
      "Southeast  14735.411437609895\n",
      "Southwest  12346.93737729231\n",
      "Northeast  13406.3845163858\n",
      "Northwest  12417.575373969228\n"
     ]
    }
   ],
   "source": [
    "region_wise_avg_insurance_charges()"
   ]
  }
 ],
 "metadata": {
  "kernelspec": {
   "display_name": "Python 3",
   "language": "python",
   "name": "python3"
  },
  "language_info": {
   "codemirror_mode": {
    "name": "ipython",
    "version": 3
   },
   "file_extension": ".py",
   "mimetype": "text/x-python",
   "name": "python",
   "nbconvert_exporter": "python",
   "pygments_lexer": "ipython3",
   "version": "3.6.12"
  }
 },
 "nbformat": 4,
 "nbformat_minor": 4
}
